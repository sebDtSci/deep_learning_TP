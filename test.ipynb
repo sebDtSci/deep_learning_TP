{
 "cells": [
  {
   "cell_type": "markdown",
   "metadata": {},
   "source": [
    "# Les Packages"
   ]
  },
  {
   "cell_type": "code",
   "execution_count": 7,
   "metadata": {},
   "outputs": [
    {
     "name": "stdout",
     "output_type": "stream",
     "text": [
      "Requirement already satisfied: pip in ./venv/lib/python3.12/site-packages (23.2.1)\n",
      "Collecting pip\n",
      "  Obtaining dependency information for pip from https://files.pythonhosted.org/packages/d4/55/90db48d85f7689ec6f81c0db0622d704306c5284850383c090e6c7195a5c/pip-24.2-py3-none-any.whl.metadata\n",
      "  Using cached pip-24.2-py3-none-any.whl.metadata (3.6 kB)\n",
      "Using cached pip-24.2-py3-none-any.whl (1.8 MB)\n",
      "Installing collected packages: pip\n",
      "  Attempting uninstall: pip\n",
      "    Found existing installation: pip 23.2.1\n",
      "    Uninstalling pip-23.2.1:\n",
      "      Successfully uninstalled pip-23.2.1\n",
      "Successfully installed pip-24.2\n"
     ]
    }
   ],
   "source": [
    "! pip install --upgrade pip\n",
    "! pip install ollama"
   ]
  },
  {
   "cell_type": "markdown",
   "metadata": {},
   "source": [
    "# Ollama Basics"
   ]
  },
  {
   "cell_type": "code",
   "execution_count": 12,
   "metadata": {},
   "outputs": [],
   "source": [
    "import ollama"
   ]
  },
  {
   "cell_type": "markdown",
   "metadata": {},
   "source": [
    "#### Download a model"
   ]
  },
  {
   "cell_type": "code",
   "execution_count": 20,
   "metadata": {},
   "outputs": [
    {
     "data": {
      "text/plain": [
       "{'status': 'success'}"
      ]
     },
     "execution_count": 20,
     "metadata": {},
     "output_type": "execute_result"
    }
   ],
   "source": [
    "ollama.pull('openchat:latest')"
   ]
  },
  {
   "cell_type": "code",
   "execution_count": 21,
   "metadata": {},
   "outputs": [
    {
     "data": {
      "text/plain": [
       "{'models': [{'name': 'openchat:latest',\n",
       "   'model': 'openchat:latest',\n",
       "   'modified_at': '2024-09-02T16:11:04.648087663+02:00',\n",
       "   'size': 4109876386,\n",
       "   'digest': '537a4e03b649d93bf57381199a85f412bfc35912e46db197407740230968e71f',\n",
       "   'details': {'parent_model': '',\n",
       "    'format': 'gguf',\n",
       "    'family': 'llama',\n",
       "    'families': ['llama'],\n",
       "    'parameter_size': '7B',\n",
       "    'quantization_level': 'Q4_0'}}]}"
      ]
     },
     "execution_count": 21,
     "metadata": {},
     "output_type": "execute_result"
    }
   ],
   "source": [
    "ollama.list()"
   ]
  },
  {
   "cell_type": "markdown",
   "metadata": {},
   "source": [
    "#### Model parameters"
   ]
  },
  {
   "cell_type": "code",
   "execution_count": 22,
   "metadata": {},
   "outputs": [],
   "source": [
    "model:str = \"openchat:latest\"\n",
    "ollama_option = {'temperature': 1}"
   ]
  },
  {
   "cell_type": "code",
   "execution_count": null,
   "metadata": {},
   "outputs": [],
   "source": [
    "prompt = \"Salut, pourquoi le chocolat est noir?\""
   ]
  },
  {
   "cell_type": "code",
   "execution_count": 84,
   "metadata": {},
   "outputs": [
    {
     "name": "stdout",
     "output_type": "stream",
     "text": [
      "{'model': 'openchat:latest', 'created_at': '2024-09-02T15:30:37.729613402Z', 'response': \" Le chocolat noir est obtenu en mélangeant les fèves de cacao et les graines de cacao avec de l'eau ou du lait, puis en le transformant par un processus d'essai. Après le brassage et le broyage, la pâte de cacao est chauffée à une température élevée pour séparer les solides des liquides, créant ainsi le cacaofondant, qui est une substance solide à l'état ambiant. Cette substance est riche en matières grasses et en matière grasse insaturée, et est utilisée dans la fabrication de divers types de chocolats, dont le chocolat noir.\", 'done': True, 'done_reason': 'stop', 'context': [32000, 420, 6316, 28781, 3198, 3123, 1247, 28747, 4902, 329, 28725, 2669, 364, 3950, 462, 484, 3873, 270, 934, 708, 361, 28804, 32000, 420, 6316, 28781, 3198, 3123, 21631, 28747, 1337, 484, 3873, 270, 708, 361, 934, 26685, 28718, 481, 290, 5560, 909, 440, 1514, 285, 28840, 1855, 340, 277, 323, 5044, 911, 1514, 847, 17251, 340, 277, 323, 5044, 4346, 340, 305, 28742, 23524, 3466, 1415, 543, 279, 28725, 12410, 481, 462, 5516, 440, 940, 521, 1759, 381, 281, 28742, 409, 1585, 28723, 21630, 462, 27042, 465, 911, 462, 1865, 28724, 465, 28725, 543, 284, 17748, 340, 277, 323, 5044, 934, 484, 581, 496, 2110, 1289, 2219, 7222, 3160, 1373, 1233, 2303, 2110, 2669, 7553, 1389, 263, 1514, 2128, 1926, 634, 9491, 1926, 28725, 14791, 440, 13255, 462, 277, 13690, 1009, 1089, 440, 28725, 3025, 934, 2219, 18677, 2128, 547, 1289, 305, 28742, 2959, 270, 4358, 3906, 28723, 17365, 18677, 934, 408, 5680, 481, 1610, 28710, 9603, 10109, 274, 911, 481, 1610, 8110, 847, 4550, 1488, 4692, 2110, 28725, 911, 934, 25090, 2110, 2422, 543, 10455, 352, 340, 8125, 4514, 340, 484, 3873, 1449, 28725, 7286, 462, 484, 3873, 270, 708, 361, 28723], 'total_duration': 2625091359, 'load_duration': 11835538, 'prompt_eval_count': 31, 'prompt_eval_duration': 77474000, 'eval_count': 165, 'eval_duration': 2412115000}\n",
      " Le chocolat noir est obtenu en mélangeant les fèves de cacao et les graines de cacao avec de l'eau ou du lait, puis en le transformant par un processus d'essai. Après le brassage et le broyage, la pâte de cacao est chauffée à une température élevée pour séparer les solides des liquides, créant ainsi le cacaofondant, qui est une substance solide à l'état ambiant. Cette substance est riche en matières grasses et en matière grasse insaturée, et est utilisée dans la fabrication de divers types de chocolats, dont le chocolat noir.\n"
     ]
    }
   ],
   "source": [
    "result = ollama.generate(\n",
    "            model=model,\n",
    "            prompt=prompt,\n",
    "            stream=False,\n",
    "            options=ollama_option\n",
    "        )\n",
    "\n",
    "print(result)\n",
    "print(result['response'])"
   ]
  },
  {
   "cell_type": "code",
   "execution_count": 85,
   "metadata": {},
   "outputs": [
    {
     "name": "stdout",
     "output_type": "stream",
     "text": [
      "{'model': 'openchat:latest', 'created_at': '2024-09-02T15:30:44.132073542Z', 'message': {'role': 'assistant', 'content': \" Le ciel apparaît bleu car la lumière du soleil se réfléchit dans l'atmosphère terrestre et une partie de cette lumière se dispersent dans toutes les directions. La couleur bleue est alors diffractée, c'est-à-dire déviée vers le bas et nous est visible en bas du ciel. D'autres couleurs sont également présentes dans la lumière solaire, mais elles n'atteignent généralement pas notre atmosphère ou ne sont pas dispersées de la même manière que la couleur bleue.\"}, 'done_reason': 'stop', 'done': True, 'total_duration': 2050314817, 'load_duration': 11356741, 'prompt_eval_count': 30, 'prompt_eval_duration': 32383000, 'eval_count': 134, 'eval_duration': 1965621000}\n",
      " Le ciel apparaît bleu car la lumière du soleil se réfléchit dans l'atmosphère terrestre et une partie de cette lumière se dispersent dans toutes les directions. La couleur bleue est alors diffractée, c'est-à-dire déviée vers le bas et nous est visible en bas du ciel. D'autres couleurs sont également présentes dans la lumière solaire, mais elles n'atteignent généralement pas notre atmosphère ou ne sont pas dispersées de la même manière que la couleur bleue.\n"
     ]
    }
   ],
   "source": [
    "rep = ollama.chat(model=model, \n",
    "            messages=[{'role': 'user', 'content': 'Salut, pourquoi le ciel est bleu?'}]\n",
    "            )\n",
    "\n",
    "print(rep)\n",
    "print(rep['message']['content'])"
   ]
  },
  {
   "cell_type": "markdown",
   "metadata": {},
   "source": [
    "## Server"
   ]
  },
  {
   "cell_type": "code",
   "execution_count": 86,
   "metadata": {},
   "outputs": [],
   "source": [
    "from ollama import Client"
   ]
  },
  {
   "cell_type": "code",
   "execution_count": 40,
   "metadata": {},
   "outputs": [],
   "source": [
    "client = Client(host='http://localhost:11434')\n",
    "response = client.chat(model=model, messages=[\n",
    "  {\n",
    "    'role': 'user',\n",
    "    'content': 'Why is the sky blue?',\n",
    "  },\n",
    "])"
   ]
  },
  {
   "cell_type": "markdown",
   "metadata": {},
   "source": [
    "## Le streaming de reponse !"
   ]
  },
  {
   "cell_type": "code",
   "execution_count": 87,
   "metadata": {},
   "outputs": [],
   "source": [
    "def ans(model:str, prompt:str): \n",
    "    result = ollama.generate(\n",
    "                model=model,\n",
    "                prompt=prompt,\n",
    "                stream=True,\n",
    "                options=ollama_option\n",
    "            )\n",
    "    response = \"\"\n",
    "    for chunk in result:\n",
    "        response += chunk['response']\n",
    "        yield chunk['response']"
   ]
  },
  {
   "cell_type": "code",
   "execution_count": 78,
   "metadata": {},
   "outputs": [
    {
     "name": "stdout",
     "output_type": "stream",
     "text": [
      " Bonjour! Le ciel apparaît bleu parce que la terre est en forme d'œuf allongé. La lumière du soleil passe à travers l'atmosphère de la Terre, qui disperse et diffracte les différentes longueurs d'onde du spectre lumineux.\n",
      "\n",
      "La lumière du soleil contient toutes les couleurs du spectre, mais celles-ci se dispersent en raison des différentes tailles des molécules de l'air (principalement d'azote et d'oxyde d'azote) présentes dans l'atmosphère. Lorsque la lumière du soleil atteint votre œil, les petites molécules d'oxygène et d'autres gaz absorbe les couleurs à courtes longueurs d'onde, comme le violet et le bleu-vert. Les longueurs d'onde plus courtes sont absorbées avant celles plus longues.\n",
      "\n",
      "La lumière restante, qui est principalement composée de couleurs à longueur d'onde plus longue (comme l'orange, le rouge et le jaune), passe plus facilement à travers l'atmosphère en raison de la diffusion. Ainsi, lorsque vous regardez vers le ciel, il est surtout les couleurs de longueur d'onde plus longue qui atteignent vos yeux et nous donnent l'impression que le ciel est bleu.\n",
      "\n",
      "Il est important de noter que cette couleur n'est pas exactement bleue ; en fait, on peut percevoir différentes nuances, depuis une teinte légèrement jaunâtre jusqu'à des tons plus profonds et azurés, selon la position du soleil, la luminosité ambiante et les conditions météorologiques.\n",
      "\n",
      "J'espère que cela explique pourquoi le ciel est bleu ! Si vous avez d'autres questions ou souciez de sujets spécifiques à traiter, n'hésitez pas à me le faire savoir."
     ]
    }
   ],
   "source": [
    "stream_rep = ans(model, 'Salut, pourquoi le ciel est bleu')\n",
    "response = \"\"\n",
    "for chunk in stream_rep:\n",
    "    print(chunk, end='', flush=True)\n",
    "    response += chunk"
   ]
  },
  {
   "cell_type": "code",
   "execution_count": null,
   "metadata": {},
   "outputs": [],
   "source": []
  },
  {
   "cell_type": "code",
   "execution_count": null,
   "metadata": {},
   "outputs": [],
   "source": []
  }
 ],
 "metadata": {
  "kernelspec": {
   "display_name": "venv",
   "language": "python",
   "name": "python3"
  },
  "language_info": {
   "codemirror_mode": {
    "name": "ipython",
    "version": 3
   },
   "file_extension": ".py",
   "mimetype": "text/x-python",
   "name": "python",
   "nbconvert_exporter": "python",
   "pygments_lexer": "ipython3",
   "version": "3.12.0"
  }
 },
 "nbformat": 4,
 "nbformat_minor": 2
}
